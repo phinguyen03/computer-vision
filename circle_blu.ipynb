{
 "cells": [
  {
   "cell_type": "code",
   "execution_count": 1,
   "metadata": {},
   "outputs": [],
   "source": [
    "import cv2\n",
    "import numpy as np"
   ]
  },
  {
   "cell_type": "code",
   "execution_count": 2,
   "metadata": {},
   "outputs": [],
   "source": [
    "path=\"1.jpg\""
   ]
  },
  {
   "cell_type": "code",
   "execution_count": 3,
   "metadata": {},
   "outputs": [],
   "source": [
    "def get_limits(color):\n",
    "    c=np.uint8([[color]]) #here insert the bgr value\n",
    "    hsvB=cv2.cvtColor(c,cv2.COLOR_BGR2HSV)\n",
    "    lowerLimit = hsvB[0][0][0] - 10, 100, 100\n",
    "    upperLimit = hsvB[0][0][0] + 10, 255, 255\n",
    "\n",
    "    lowerLimit=np.array(lowerLimit,dtype=np.uint8)\n",
    "    upperLimit=np.array(upperLimit,dtype=np.uint8)\n",
    "\n",
    "    return lowerLimit,upperLimit"
   ]
  },
  {
   "cell_type": "code",
   "execution_count": 4,
   "metadata": {},
   "outputs": [],
   "source": [
    "blue=[255,0,0]"
   ]
  },
  {
   "cell_type": "code",
   "execution_count": 5,
   "metadata": {},
   "outputs": [],
   "source": [
    "img=cv2.imread(path)\n",
    "hsv_blue=cv2.cvtColor(img,cv2.COLOR_BGR2HSV)\n",
    "\n",
    "lowerLimit,upperLimit=get_limits(color=blue)\n",
    "\n",
    "mask=cv2.inRange(hsv_blue,lowerLimit,upperLimit)\n",
    "\n",
    "def detect_shape(contour):\n",
    "    # Approximate the contour to determine the shape\n",
    "    peri = cv2.arcLength(contour, True)\n",
    "    approx = cv2.approxPolyDP(contour, 0.04 * peri, True)\n",
    "    num_sides = len(approx)\n",
    "\n",
    "    # Circle detection\n",
    "    if num_sides >= 8:\n",
    "        area = cv2.contourArea(contour) #area\n",
    "        radius = np.sqrt(area / np.pi) #radious of circle\n",
    "        c = peri / (2 * np.pi * radius) #peri\n",
    "        if c >= 0.8 and c <= 1.2:  #range of circle\n",
    "            return \"Circle\"\n",
    "    return 'Unknown'\n",
    "\n",
    "val,thresh=cv2.threshold(mask,115,255,cv2.THRESH_BINARY)\n",
    "\n",
    "contours, _ = cv2.findContours(thresh, cv2.RETR_EXTERNAL, cv2.CHAIN_APPROX_SIMPLE)\n",
    "# Iterate over the contours and detect shapes\n",
    "for contour in contours:\n",
    "    shape = detect_shape(contour)\n",
    "    M = cv2.moments(contour)\n",
    "    cx = int(M[\"m10\"] / M[\"m00\"]) if M[\"m00\"] != 0 else 0\n",
    "    cy = int(M[\"m01\"] / M[\"m00\"]) if M[\"m00\"] != 0 else 0\n",
    "    cv2.putText(img, shape, (cx, cy), cv2.FONT_HERSHEY_SIMPLEX, 0.5, (128,128,178), 2)\n",
    "\n",
    "cv2.imshow('img',mask)\n",
    "cv2.imshow('img1',img)\n",
    "cv2.imshow('img2',thresh)\n",
    "cv2.waitKey(0)\n",
    "cv2.destroyAllWindows()"
   ]
  }
 ],
 "metadata": {
  "kernelspec": {
   "display_name": "tensorflow",
   "language": "python",
   "name": "python3"
  },
  "language_info": {
   "codemirror_mode": {
    "name": "ipython",
    "version": 3
   },
   "file_extension": ".py",
   "mimetype": "text/x-python",
   "name": "python",
   "nbconvert_exporter": "python",
   "pygments_lexer": "ipython3",
   "version": "3.10.13"
  }
 },
 "nbformat": 4,
 "nbformat_minor": 2
}
